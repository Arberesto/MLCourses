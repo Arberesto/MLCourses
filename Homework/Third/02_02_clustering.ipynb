{
 "cells": [
  {
   "cell_type": "markdown",
   "metadata": {
    "colab_type": "text",
    "id": "tl5GndyEOiot"
   },
   "source": [
    "# 2.2 Кластеризация. Баннеры.\n",
    "\n",
    "1. Скачайте этот ноутбук к себе.\n",
    "2. Заполните пропущенные ячейки, отвечая на заданные вопросы. Там должен быть код! (если не сказано обратное)\n",
    "3. Сохраните результат в своём гитхаб репозитории.\n",
    "\n",
    "### Полезная литература\n",
    "\n",
    "- [ODS: Обучение без учителя: PCA и кластеризация](https://habrahabr.ru/company/ods/blog/325654/)\n",
    "- [Интересные алгоритмы кластеризации, часть первая: Affinity propagation](https://habrahabr.ru/post/321216/) и другие статьи цикла\n",
    "- [Глава 7: кластеризация и визуализация. К. В. Воронцов](http://www.machinelearning.ru/wiki/images/6/6d/Voron-ML-1.pdf)\n",
    "- [Документация sklearn.clustering](http://scikit-learn.org/stable/modules/clustering.html)\n",
    "- [K-Means Clustering - The Math of Intelligence. Siraj Raval](https://www.youtube.com/watch?v=9991JlKnFmk) объяснение с программированием KMeans вручную"
   ]
  },
  {
   "cell_type": "markdown",
   "metadata": {
    "colab_type": "text",
    "id": "GYdouILzCWS-"
   },
   "source": []
  },
  {
   "cell_type": "markdown",
   "metadata": {
    "colab_type": "text",
    "id": "FF0l09wsOiou"
   },
   "source": [
    "## Центры кластеров (6 баллов)\n",
    "\n",
    "Представим, что международное круизное агентство Carnival Cruise Line решило себя разрекламировать с помощью баннеров и обратилось для этого к вам. Чтобы протестировать, велика ли от таких баннеров польза, их будет размещено всего 20 штук по всему миру. Вам надо выбрать 20 таких локаций для размещения, чтобы польза была большой и агентство продолжило с вами сотрудничать.\n",
    "\n",
    "Агентство крупное, и у него есть несколько офисов по всему миру. Вблизи этих офисов оно и хочет разместить баннеры — легче договариваться и проверять результат. Также эти места должны быть популярны среди туристов.\n",
    "\n",
    "Для поиска оптимальных мест воспользуемся базой данных крупнейшей социальной сети, основанной на локациях — Foursquare. Полный датасет доступен здесь: https://archive.org/details/201309_foursquare_dataset_umn. Но в `../../data/checkins.csv.gz` я подготовил данные и оставил только 100000 элементов, иначе бы KMeans обучался пол дня."
   ]
  },
  {
   "cell_type": "markdown",
   "metadata": {
    "colab_type": "text",
    "id": "qNOfYnjUOiov"
   },
   "source": [
    "Найдем на Google Maps координаты офисов компании:\n",
    "\n",
    "```\n",
    "33.751277, -118.188740 (Los Angeles)\n",
    "25.867736, -80.324116 (Miami)\n",
    "51.503016, -0.075479 (London)\n",
    "52.378894, 4.885084 (Amsterdam)\n",
    "39.366487, 117.036146 (Beijing)\n",
    "-33.868457, 151.205134 (Sydney)\n",
    "```"
   ]
  },
  {
   "cell_type": "markdown",
   "metadata": {
    "colab_type": "text",
    "id": "9FmOO2khOiow"
   },
   "source": [
    "###  2.0 Read data (0.5 балла): \n",
    "**Загрузите датасет используя pandas `checkins.csv.gz`. Выведите его размер, первые 5 строк таблицы, статистическиую сводку(describe) **"
   ]
  },
  {
   "cell_type": "code",
   "execution_count": 42,
   "metadata": {
    "colab": {},
    "colab_type": "code",
    "id": "O_w_yFSzOiox"
   },
   "outputs": [
    {
     "name": "stdout",
     "output_type": "stream",
     "text": [
      "100000\n",
      "    latitude   longitude\n",
      "0  38.895112  -77.036366\n",
      "1  33.800745  -84.410520\n",
      "2  45.523452 -122.676207\n",
      "3  40.764462 -111.904565\n",
      "4  33.448377 -112.074037\n",
      "            latitude      longitude\n",
      "count  100000.000000  100000.000000\n",
      "mean       36.886388     -89.396849\n",
      "std         8.351517      35.579317\n",
      "min       -45.031162    -159.670833\n",
      "25%        33.494170    -112.074037\n",
      "50%        38.646991     -87.743938\n",
      "75%        40.740389     -75.163789\n",
      "max        67.631479     174.908056\n"
     ]
    }
   ],
   "source": [
    "import pandas as pd\n",
    "import numpy as np\n",
    "import random\n",
    "from matplotlib import pyplot as plt\n",
    "\n",
    "columns = ['latitude','longitude','country']\n",
    "data = []\n",
    "data.append({'latitude': 33.751277,'longitude': -118.188740,'country':'Los Angeles'})\n",
    "data.append({'latitude': 25.867736,'longitude': -80.324116,'country':'Miami'})\n",
    "data.append({'latitude': 51.503016,'longitude': -0.075479,'country':'London'})\n",
    "data.append({'latitude': 52.378894,'longitude': 4.885084,'country':'Amsterdam'})\n",
    "data.append({'latitude': 39.366487,'longitude': 117.036146,'country':'Beijing'})\n",
    "data.append({'latitude': -33.868457,'longitude': 151.205134,'country':'Sydney'})\n",
    "#offices =  pd.DataFrame(data, columns = columns)\n",
    "df = pd.read_csv('./data/checkins.csv.gz', na_values=' ?')\n",
    "print(len(df))\n",
    "print(df.head(5))\n",
    "print(df.describe())"
   ]
  },
  {
   "cell_type": "markdown",
   "metadata": {
    "colab_type": "text",
    "id": "_YewtcqKOio0"
   },
   "source": [
    "###  2.1 MeanShift (1 балл): \n",
    "Для данной задачи мы не знаем сколько кластеров вообще существует, и есть ли они, поэтому воспользуемся методом, который сам находит нужное количество кластеров. Используйте `MeanShift`, указав `bandwidth=0.1`, что в переводе из градусов в метры колеблется примерно от 5 до 10 км в средних широтах. Документацию по нему вы можете найти в документации SKlearn [тут](http://scikit-learn.org/stable/modules/clustering.html#mean-shift).\n",
    "\n",
    "**Обучите кластеризатор на всех данных.** Выполнение в 4 потока на i5 заняло 2 минуты."
   ]
  },
  {
   "cell_type": "code",
   "execution_count": 43,
   "metadata": {
    "colab": {},
    "colab_type": "code",
    "id": "4Rssk7EbOio1"
   },
   "outputs": [
    {
     "name": "stdout",
     "output_type": "stream",
     "text": [
      "CPU times: user 45.9 s, sys: 7.3 s, total: 53.2 s\n",
      "Wall time: 7min 58s\n",
      "MeanShift(bandwidth=0.1, bin_seeding=False, cluster_all=True, min_bin_freq=1,\n",
      "          n_jobs=4, seeds=None)\n"
     ]
    }
   ],
   "source": [
    "from sklearn.cluster import MeanShift\n",
    "\n",
    "#~6 minute\n",
    "%time meanShift = MeanShift(bandwidth=0.1, n_jobs=4).fit(df)\n",
    "print(meanShift)"
   ]
  },
  {
   "cell_type": "markdown",
   "metadata": {
    "colab_type": "text",
    "id": "6BkX8BzlOio3"
   },
   "source": [
    "### 2.2 Visualization (0.5 балла): \n",
    "**Визуализируйте с помощью matplotlib все точки из датасета** так, чтобы они были разукрашены в соответсвии с кластером к которому они принадлежат. **Добавьте на ваш график ещё точки расположений офисов**, сделайте их большими и красными, чтобы было видно. Рисовать каким-то образом карту мира под точками НЕ надо."
   ]
  },
  {
   "cell_type": "code",
   "execution_count": 138,
   "metadata": {
    "colab": {},
    "colab_type": "code",
    "id": "uZEJFIixOio4"
   },
   "outputs": [
    {
     "name": "stdout",
     "output_type": "stream",
     "text": [
      "6\n"
     ]
    },
    {
     "name": "stderr",
     "output_type": "stream",
     "text": [
      "/home/arcades/.pyenv/versions/3.7.1/lib/python3.7/site-packages/ipykernel_launcher.py:28: UserWarning: Matplotlib is currently using module://ipykernel.pylab.backend_inline, which is a non-GUI backend, so cannot show the figure.\n"
     ]
    },
    {
     "data": {
      "image/png": "[encoded data removed]",
      "text/plain": [
       "<Figure size 432x288 with 2 Axes>"
      ]
     },
     "metadata": {
      "needs_background": "light"
     },
     "output_type": "display_data"
    }
   ],
   "source": [
    "#print (meanShift.cluster_centers_)\n",
    "fig = plt.figure()\n",
    "ax = fig.add_subplot(111)\n",
    "\n",
    "x = []\n",
    "y = []\n",
    "\n",
    "print(len(data))\n",
    "\n",
    "for index in data:\n",
    "    x.append(index['latitude'])\n",
    "    y.append(index['longitude'])\n",
    "\n",
    "scatter = ax.scatter(x,y,c='red',s=240)\n",
    "\n",
    "number_of_colors = len(meanShift.cluster_centers_)\n",
    "\n",
    "color = [\"#\"+''.join([random.choice('0123456789ABCDEF') for j in range(6)])\n",
    "             for i in range(number_of_colors)]\n",
    "\n",
    "df_color = []\n",
    "for label in meanShift.labels_:\n",
    "    df_color.append(color[label] )\n",
    "\n",
    "ax.scatter(df['latitude'],df['longitude'],s=10,c=df_color)\n",
    "    \n",
    "plt.colorbar(scatter)\n",
    "fig.show()\n"
   ]
  },
  {
   "cell_type": "markdown",
   "metadata": {
    "colab_type": "text",
    "id": "OQww3COaOio7"
   },
   "source": [
    "###  2.3 Filter clusters (2 балла): \n",
    "Как видим на графике, некоторые из получившихся кластеров содержат слишком мало точек — такие кластеры не интересны рекламодателям. Поэтому надо определить, какие из кластеров содержат, скажем, больше 15 элементов. Центры этих кластеров и являются оптимальными для размещения. \n",
    "\n",
    "**Выведите количество кластеров, которое удовлетворяет этому условию.**\n",
    "\n",
    "**Hint**: `itertools.groupby`"
   ]
  },
  {
   "cell_type": "code",
   "execution_count": 137,
   "metadata": {
    "colab": {},
    "colab_type": "code",
    "id": "jdpJvPIiOio7"
   },
   "outputs": [
    {
     "name": "stdout",
     "output_type": "stream",
     "text": [
      "624\n"
     ]
    }
   ],
   "source": [
    "from functools import reduce\n",
    "from itertools import filterfalse\n",
    "\n",
    "unique, counts = np.unique(meanShift.labels_, return_counts=True)\n",
    "clasters = dict(zip(unique,counts))\n",
    "\n",
    "true_clasters = list(filterfalse(lambda x: clasters[x] < 15,clasters))\n",
    "#print(true_clasters)\n",
    "print(len(true_clasters))"
   ]
  },
  {
   "cell_type": "markdown",
   "metadata": {
    "colab_type": "text",
    "id": "sjymBfYEOio-"
   },
   "source": [
    "###  Задание 2.4 (2 балла): \n",
    "Как мы помним, необходимо разместить только 20 баннеров близ офисов компании. Осталось определить 20 ближайших к ним центров кластеров. Т.е. посчитать дистанцию до ближайшего офиса для каждой точки и выбрать 20 с наименьшим значением.\n",
    "\n",
    "**Выведите эти 20 центров кластеров, отсортрованных по возрастанию расстояния до ближайшего офиса.**\n",
    "\n",
    "**Hint:** Для вычисления расстояния вы можете использовать обычную евклидову метрику и предполагать, что земля плоская. А можете использовать `geopy.distance.vincenty` если поймёте как."
   ]
  },
  {
   "cell_type": "code",
   "execution_count": 136,
   "metadata": {
    "colab": {},
    "colab_type": "code",
    "id": "Q26cGveqOio_"
   },
   "outputs": [
    {
     "name": "stdout",
     "output_type": "stream",
     "text": [
      "Point (52.37296399032261, 4.892317222580647) with minimum distance 0.511664343451444 to nearest office\n",
      "\n",
      "Point (-33.86063042857143, 151.20477592857145) with minimum distance 0.5398192612036046 to nearest office\n",
      "\n",
      "Point (25.8456722642857, -80.31889059642857) with minimum distance 1.5533279019315598 to nearest office\n",
      "\n",
      "Point (51.502991260887086, -0.12553728870967767) with minimum distance 2.159790544052752 to nearest office\n",
      "\n",
      "Point (33.8098779552631, -118.14892380690813) with minimum distance 4.6436515628804536 to nearest office\n",
      "\n",
      "Point (25.7858124199675, -80.2179380368254) with minimum distance 8.69267759169425 to nearest office\n",
      "\n",
      "Point (25.705349721052592, -80.28342873815798) with minimum distance 11.462413168546155 to nearest office\n",
      "\n",
      "Point (33.8883253427586, -118.04892817172427) with minimum distance 12.405938191898956 to nearest office\n",
      "\n",
      "Point (26.010098249285683, -80.19999058571432) with minimum distance 12.47929704886396 to nearest office\n",
      "\n",
      "Point (33.87298601157018, -118.36209114655645) with minimum distance 13.031824594085169 to nearest office\n",
      "\n"
     ]
    }
   ],
   "source": [
    "from geopy.distance import geodesic\n",
    "\n",
    "#use geodesic, because vincenty already deprecated and not work with some valid coordinates\n",
    "\n",
    "offices_points = [(city['latitude'],city['longitude']) for city in data]\n",
    "\n",
    "centers = [(meanShift.cluster_centers_[i][0],meanShift.cluster_centers_[i][1]) for i in true_clasters]\n",
    "min = list()\n",
    "epsilon = float(np.finfo(float).eps)\n",
    "for center in centers:\n",
    "    min_distance = geodesic(offices_points[0],center).miles\n",
    "    for office in offices_points:\n",
    "        distance = geodesic(office,center).miles\n",
    "        #print(distance)\n",
    "        if ((min_distance - distance) > float(epsilon)):\n",
    "            min_distance = distance\n",
    "    min.append([min_distance,center])\n",
    "    \n",
    "min.sort(key = lambda a: a[0])\n",
    "for i in range(0,10):\n",
    "    print('Point {1} with minimum distance {0} to nearest office\\n'.format(min[i][0],min[i][1]))"
   ]
  },
  {
   "cell_type": "markdown",
   "metadata": {
    "colab_type": "text",
    "id": "gh4HF9xkOipB"
   },
   "source": [
    "Координата центра кластера ближайшего к какому-то из офисов компании должны быть `(52.37296399032261, 4.8923172225806466)`. Если у вас не так, то считайте, что вы сделали что-то неправильно. "
   ]
  }
 ],
 "metadata": {
  "colab": {
   "collapsed_sections": [],
   "name": "02-02-clustering.ipynb",
   "provenance": []
  },
  "kernelspec": {
   "display_name": "Python 3",
   "language": "python",
   "name": "python3"
  },
  "language_info": {
   "codemirror_mode": {
    "name": "ipython",
    "version": 3
   },
   "file_extension": ".py",
   "mimetype": "text/x-python",
   "name": "python",
   "nbconvert_exporter": "python",
   "pygments_lexer": "ipython3",
   "version": "3.7.1"
  }
 },
 "nbformat": 4,
 "nbformat_minor": 1
}
