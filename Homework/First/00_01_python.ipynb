{
 "cells": [
  {
   "cell_type": "markdown",
   "metadata": {
    "colab_type": "text",
    "id": "wdSaaNnwHt6d"
   },
   "source": [
    "# 1.1 Python 3. Базовые задания.\n",
    "\n",
    "С базовыми фичами языка можно ознакомиться в материалах к данной теме.\n",
    "\n",
    "Для закрепления знаний, решите следующие задачи."
   ]
  },
  {
   "cell_type": "markdown",
   "metadata": {
    "colab_type": "text",
    "id": "cBy-0uwsHt6i"
   },
   "source": [
    "# Задание 1. Word Count\n",
    "\n",
    "Посчитать сколько раз каждое слово повторялось в тексте. Вывести 10 самых частых слов отсортированных по частоте. Игнорировать однобуквенные слова и пунктуацию. Слова в предложении - это наборы символов отделенные друг от друга пробельными символами (пробел, табуляция, новая строка).\n",
    "\n",
    "**Hint**: вам понадобится `dict` и метод `get(key)`, который возвращает `None`, если значения отсутсвует.\n",
    "\n",
    "**Advanced**: Нарисуйте bar-plot график количества слов в предложении. (Используйте библиотеку seaborn)"
   ]
  },
  {
   "cell_type": "code",
   "execution_count": 3,
   "metadata": {
    "colab": {},
    "colab_type": "code",
    "id": "3V7vsF-jHt6l",
    "outputId": "2f8e5869-6696-49c1-e2de-d7578d19ed1d"
   },
   "outputs": [
    {
     "name": "stdout",
     "output_type": "stream",
     "text": [
      "[('aa', 3), ('cc', 2), ('AA', 1), ('bb', 1)]\n"
     ]
    },
    {
     "data": {
      "image/png": "[encoded data removed]",
      "text/plain": [
       "<Figure size 432x288 with 1 Axes>"
      ]
     },
     "metadata": {},
     "output_type": "display_data"
    }
   ],
   "source": [
    "import seaborn as sns\n",
    "import operator\n",
    " \n",
    "def word_count(text):\n",
    "    dictionary = {}\n",
    "    for word in text.split():\n",
    "        if len(word) != 1:\n",
    "            if word not in dictionary:\n",
    "                dictionary.setdefault(word,1)\n",
    "            else:\n",
    "                dictionary.update({word: dictionary.get(word) + 1})\n",
    "             \n",
    "    result = sorted(dictionary.items(), key=operator.itemgetter(1))[::-1]\n",
    "    \n",
    "    res_dict = {}\n",
    "    res_dict.setdefault(\"word\",list(dictionary.keys()))\n",
    "    res_dict.setdefault(\"amount\",list(dictionary.values()))\n",
    "    sns.set(style=\"whitegrid\")\n",
    "    sns.barplot(x=\"word\", y=\"amount\", data=res_dict)    \n",
    "    \n",
    "        \n",
    "    print(result[0:9])\n",
    "    \n",
    "word_count(\"aa aa aa bb cc cc A B C a AA\")"
   ]
  },
  {
   "cell_type": "code",
   "execution_count": 1,
   "metadata": {
    "colab": {},
    "colab_type": "code",
    "id": "WwBZGV7HHt6y",
    "outputId": "b0f25a37-2b0f-40a5-f297-c99697e40e18"
   },
   "outputs": [
    {
     "data": {
      "application/vnd.jupyter.widget-view+json": {
       "model_id": "68a5f61de20c41a58f26d167757f1af4",
       "version_major": 2,
       "version_minor": 0
      },
      "text/plain": [
       "Text(value='', placeholder='тут текст')"
      ]
     },
     "metadata": {},
     "output_type": "display_data"
    },
    {
     "ename": "NameError",
     "evalue": "name 'word_count' is not defined",
     "output_type": "error",
     "traceback": [
      "\u001b[0;31m---------------------------------------------------------------------------\u001b[0m",
      "\u001b[0;31mNameError\u001b[0m                                 Traceback (most recent call last)",
      "\u001b[0;32m<ipython-input-1-ac26b4f1bbce>\u001b[0m in \u001b[0;36m<lambda>\u001b[0;34m(txt)\u001b[0m\n\u001b[1;32m      5\u001b[0m \u001b[0mtext\u001b[0m \u001b[0;34m=\u001b[0m \u001b[0mwidgets\u001b[0m\u001b[0;34m.\u001b[0m\u001b[0mText\u001b[0m\u001b[0;34m(\u001b[0m\u001b[0mplaceholder\u001b[0m\u001b[0;34m=\u001b[0m\u001b[0;34m\"тут текст\"\u001b[0m\u001b[0;34m)\u001b[0m\u001b[0;34m\u001b[0m\u001b[0;34m\u001b[0m\u001b[0m\n\u001b[1;32m      6\u001b[0m \u001b[0mdisplay\u001b[0m\u001b[0;34m(\u001b[0m\u001b[0mtext\u001b[0m\u001b[0;34m)\u001b[0m\u001b[0;34m\u001b[0m\u001b[0;34m\u001b[0m\u001b[0m\n\u001b[0;32m----> 7\u001b[0;31m \u001b[0mtext\u001b[0m\u001b[0;34m.\u001b[0m\u001b[0mon_submit\u001b[0m\u001b[0;34m(\u001b[0m\u001b[0;32mlambda\u001b[0m \u001b[0mtxt\u001b[0m\u001b[0;34m:\u001b[0m \u001b[0mword_count\u001b[0m\u001b[0;34m(\u001b[0m\u001b[0mtxt\u001b[0m\u001b[0;34m.\u001b[0m\u001b[0mvalue\u001b[0m\u001b[0;34m)\u001b[0m\u001b[0;34m)\u001b[0m\u001b[0;34m\u001b[0m\u001b[0;34m\u001b[0m\u001b[0m\n\u001b[0m\u001b[1;32m      8\u001b[0m \u001b[0;34m\u001b[0m\u001b[0m\n\u001b[1;32m      9\u001b[0m \u001b[0;31m# введите число и нажмите enter\u001b[0m\u001b[0;34m\u001b[0m\u001b[0;34m\u001b[0m\u001b[0;34m\u001b[0m\u001b[0m\n",
      "\u001b[0;31mNameError\u001b[0m: name 'word_count' is not defined"
     ]
    },
    {
     "name": "stdout",
     "output_type": "stream",
     "text": [
      "[('aa', 2), ('rwe', 1), ('tt', 1)]\n"
     ]
    },
    {
     "data": {
      "image/png": "[encoded data removed]",
      "text/plain": [
       "<Figure size 432x288 with 1 Axes>"
      ]
     },
     "metadata": {},
     "output_type": "display_data"
    }
   ],
   "source": [
    "# Это магия для ввода текста, не трогайте её\n",
    "# Выполните эту ячейку и увидите поле для ввода текста. \n",
    "# Введите текст, нажмите Enter и получите ответ, который вы вычислили в функции выше\n",
    "from ipywidgets import widgets\n",
    "text = widgets.Text(placeholder=\"тут текст\")\n",
    "display(text)\n",
    "text.on_submit(lambda txt: word_count(txt.value))\n",
    "\n",
    "# введите число и нажмите enter"
   ]
  },
  {
   "cell_type": "markdown",
   "metadata": {
    "colab_type": "text",
    "id": "FN-vP5t1Ht64"
   },
   "source": [
    "# Задание 2. Сумма цифр числа\n",
    "\n",
    "Посчитать сумму цифр данного натурального числа. Например, `summa(1234) == 1+2+3+4 == 10`."
   ]
  },
  {
   "cell_type": "code",
   "execution_count": 105,
   "metadata": {
    "colab": {},
    "colab_type": "code",
    "id": "Vbxf-PfSHt67"
   },
   "outputs": [
    {
     "data": {
      "text/plain": [
       "15"
      ]
     },
     "execution_count": 105,
     "metadata": {},
     "output_type": "execute_result"
    }
   ],
   "source": [
    "def summa(n):\n",
    "    digits = str(n)\n",
    "    result = 0\n",
    "    for i in range(len(digits)):\n",
    "        result += int(digits[i])\n",
    "    return result\n",
    "    \n",
    "    pass\n",
    "\n",
    "summa(1211424)"
   ]
  },
  {
   "cell_type": "markdown",
   "metadata": {
    "colab_type": "text",
    "id": "7CAtnv3uHt7B"
   },
   "source": [
    "> Человеку свойственна итерация, рекурсия – удел богов. \\(James O. Coplien, Bell Labs\\)"
   ]
  },
  {
   "cell_type": "code",
   "execution_count": 106,
   "metadata": {
    "colab": {},
    "colab_type": "code",
    "id": "WbwkkJ1vHt7C"
   },
   "outputs": [
    {
     "data": {
      "text/plain": [
       "10"
      ]
     },
     "execution_count": 106,
     "metadata": {},
     "output_type": "execute_result"
    }
   ],
   "source": [
    "def summa_recursive(n):\n",
    "    digits = list(str(n))\n",
    "    if len(digits) == 1:\n",
    "        return int(digits[0])\n",
    "    return int(digits[0]) + summa_recursive(''.join(digits[1:]))\n",
    "\n",
    "    pass\n",
    "\n",
    "summa_recursive(1234)"
   ]
  },
  {
   "cell_type": "code",
   "execution_count": null,
   "metadata": {},
   "outputs": [],
   "source": []
  }
 ],
 "metadata": {
  "colab": {
   "collapsed_sections": [],
   "name": "00-01_python.ipynb",
   "provenance": []
  },
  "kernelspec": {
   "display_name": "Python 3",
   "language": "python",
   "name": "python3"
  },
  "language_info": {
   "codemirror_mode": {
    "name": "ipython",
    "version": 3
   },
   "file_extension": ".py",
   "mimetype": "text/x-python",
   "name": "python",
   "nbconvert_exporter": "python",
   "pygments_lexer": "ipython3",
   "version": "3.7.1"
  }
 },
 "nbformat": 4,
 "nbformat_minor": 1
}
