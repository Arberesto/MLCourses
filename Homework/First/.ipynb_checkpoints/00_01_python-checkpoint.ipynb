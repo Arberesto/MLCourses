{
 "cells": [
  {
   "cell_type": "markdown",
   "metadata": {
    "colab_type": "text",
    "id": "wdSaaNnwHt6d"
   },
   "source": [
    "# 1.1 Python 3. Базовые задания.\n",
    "\n",
    "С базовыми фичами языка можно ознакомиться в материалах к данной теме.\n",
    "\n",
    "Для закрепления знаний, решите следующие задачи."
   ]
  },
  {
   "cell_type": "markdown",
   "metadata": {
    "colab_type": "text",
    "id": "cBy-0uwsHt6i"
   },
   "source": [
    "# Задание 1. Word Count\n",
    "\n",
    "Посчитать сколько раз каждое слово повторялось в тексте. Вывести 10 самых частых слов отсортированных по частоте. Игнорировать однобуквенные слова и пунктуацию. Слова в предложении - это наборы символов отделенные друг от друга пробельными символами (пробел, табуляция, новая строка).\n",
    "\n",
    "**Hint**: вам понадобится `dict` и метод `get(key)`, который возвращает `None`, если значения отсутсвует.\n",
    "\n",
    "**Advanced**: Нарисуйте bar-plot график количества слов в предложении. (Используйте библиотеку seaborn)"
   ]
  },
  {
   "cell_type": "code",
   "execution_count": 76,
   "metadata": {
    "colab": {},
    "colab_type": "code",
    "id": "3V7vsF-jHt6l",
    "outputId": "2f8e5869-6696-49c1-e2de-d7578d19ed1d"
   },
   "outputs": [
    {
     "name": "stdout",
     "output_type": "stream",
     "text": [
      "[('aa', 3), ('cc', 2), ('AA', 1), ('bb', 1)]\n"
     ]
    },
    {
     "data": {
      "image/png": "[encoded data removed]",
      "text/plain": [
       "<Figure size 432x288 with 1 Axes>"
      ]
     },
     "metadata": {},
     "output_type": "display_data"
    }
   ],
   "source": [
    "import seaborn as sns\n",
    "import operator\n",
    " \n",
    "def word_count(text):\n",
    "    dictionary = {}\n",
    "    for word in text.split():\n",
    "        if len(word) != 1:\n",
    "            if word not in dictionary:\n",
    "                dictionary.setdefault(word,1)\n",
    "            else:\n",
    "                dictionary.update({word: dictionary.get(word) + 1})\n",
    "             \n",
    "    result = sorted(dictionary.items(), key=operator.itemgetter(1))[::-1]\n",
    "    \n",
    "    res_dict = {}\n",
    "    res_dict.setdefault(\"word\",list(dictionary.keys()))\n",
    "    res_dict.setdefault(\"amount\",list(dictionary.values()))\n",
    "    sns.set(style=\"whitegrid\")\n",
    "    sns.barplot(x=\"word\", y=\"amount\", data=res_dict)    \n",
    "    \n",
    "        \n",
    "    print(result[0:9])\n",
    "    \n",
    "word_count(\"aa aa aa bb cc cc A B C a AA\")"
   ]
  },
  {
   "cell_type": "code",
   "execution_count": 100,
   "metadata": {
    "colab": {},
    "colab_type": "code",
    "id": "WwBZGV7HHt6y",
    "outputId": "b0f25a37-2b0f-40a5-f297-c99697e40e18"
   },
   "outputs": [
    {
     "data": {
      "application/vnd.jupyter.widget-view+json": {
       "model_id": "8c3f2cb50da7489f97171b51e87f4619",
       "version_major": 2,
       "version_minor": 0
      },
      "text/plain": [
       "Text(value='', placeholder='тут текст')"
      ]
     },
     "metadata": {},
     "output_type": "display_data"
    }
   ],
   "source": [
    "# Это магия для ввода текста, не трогайте её\n",
    "# Выполните эту ячейку и увидите поле для ввода текста. \n",
    "# Введите текст, нажмите Enter и получите ответ, который вы вычислили в функции выше\n",
    "from ipywidgets import widgets\n",
    "text = widgets.Text(placeholder=\"тут текст\")\n",
    "display(text)\n",
    "text.on_submit(lambda txt: word_count(txt.value))\n",
    "\n",
    "# введите число и нажмите enter"
   ]
  },
  {
   "cell_type": "markdown",
   "metadata": {
    "colab_type": "text",
    "id": "FN-vP5t1Ht64"
   },
   "source": [
    "# Задание 2. Сумма цифр числа\n",
    "\n",
    "Посчитать сумму цифр данного натурального числа. Например, `summa(1234) == 1+2+3+4 == 10`."
   ]
  },
  {
   "cell_type": "code",
   "execution_count": 105,
   "metadata": {
    "colab": {},
    "colab_type": "code",
    "id": "Vbxf-PfSHt67"
   },
   "outputs": [
    {
     "data": {
      "text/plain": [
       "15"
      ]
     },
     "execution_count": 105,
     "metadata": {},
     "output_type": "execute_result"
    }
   ],
   "source": [
    "def summa(n):\n",
    "    digits = str(n)\n",
    "    result = 0\n",
    "    for i in range(len(digits)):\n",
    "        result += int(digits[i])\n",
    "    return result\n",
    "    \n",
    "    pass\n",
    "\n",
    "summa(1211424)"
   ]
  },
  {
   "cell_type": "markdown",
   "metadata": {
    "colab_type": "text",
    "id": "7CAtnv3uHt7B"
   },
   "source": [
    "> Человеку свойственна итерация, рекурсия – удел богов. \\(James O. Coplien, Bell Labs\\)"
   ]
  },
  {
   "cell_type": "code",
   "execution_count": 106,
   "metadata": {
    "colab": {},
    "colab_type": "code",
    "id": "WbwkkJ1vHt7C"
   },
   "outputs": [
    {
     "data": {
      "text/plain": [
       "10"
      ]
     },
     "execution_count": 106,
     "metadata": {},
     "output_type": "execute_result"
    }
   ],
   "source": [
    "def summa_recursive(n):\n",
    "    digits = list(str(n))\n",
    "    if len(digits) == 1:\n",
    "        return int(digits[0])\n",
    "    return int(digits[0]) + summa_recursive(''.join(digits[1:]))\n",
    "\n",
    "    pass\n",
    "\n",
    "summa_recursive(1234)"
   ]
  },
  {
   "cell_type": "code",
   "execution_count": null,
   "metadata": {},
   "outputs": [],
   "source": []
  }
 ],
 "metadata": {
  "colab": {
   "collapsed_sections": [],
   "name": "00-01_python.ipynb",
   "provenance": []
  },
  "kernelspec": {
   "display_name": "Python 3",
   "language": "python",
   "name": "python3"
  },
  "language_info": {
   "codemirror_mode": {
    "name": "ipython",
    "version": 3
   },
   "file_extension": ".py",
   "mimetype": "text/x-python",
   "name": "python",
   "nbconvert_exporter": "python",
   "pygments_lexer": "ipython3",
   "version": "3.7.1"
  }
 },
 "nbformat": 4,
 "nbformat_minor": 1
}
