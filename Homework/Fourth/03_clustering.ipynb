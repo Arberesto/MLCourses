{
 "cells": [
  {
   "cell_type": "markdown",
   "metadata": {
    "colab_type": "text",
    "id": "W6RYkoVl8HSs"
   },
   "source": [
    "# 3. Рекомендательная система (20 баллов)\n",
    "\n",
    "1. Скачайте этот ноутбук к себе.\n",
    "2. Заполните пропущенные ячейки, отвечая на заданные вопросы. Там должен быть код! (если не сказано обратное)\n",
    "3. Сохраните результат в своём гитхаб репозитории.\n",
    "\n",
    "### Полезная литература\n",
    "\n",
    "- [Лекция 8. Рекомендательный системы](https://www.youtube.com/watch?v=Te_6TqEhyTI&t=4s).\n",
    "- [Туториал по рекомендательным системам](http://nbviewer.jupyter.org/urls/gitlab.7bits.it/isiganov/ml-course/raw/master/week05/theory/05-01-clustering.ipynb?inline=false)\n",
    "\n",
    "- [ODS: Обучение без учителя: PCA и кластеризация](https://habrahabr.ru/company/ods/blog/325654/)\n",
    "- [Интересные алгоритмы кластеризации, часть первая: Affinity propagation](https://habrahabr.ru/post/321216/) и другие статьи цикла\n",
    "- [Глава 7: кластеризация и визуализация. К. В. Воронцов](http://www.machinelearning.ru/wiki/images/6/6d/Voron-ML-1.pdf)\n",
    "- [Документация sklearn.clustering](http://scikit-learn.org/stable/modules/clustering.html)\n",
    "- [K-Means Clustering - The Math of Intelligence. Siraj Raval](https://www.youtube.com/watch?v=9991JlKnFmk) объяснение с программированием KMeans вручную"
   ]
  },
  {
   "cell_type": "markdown",
   "metadata": {
    "colab_type": "text",
    "id": "KF09JwWD8HSu"
   },
   "source": [
    "В этой практике мы попробуем построить очень простую рекомендательную систему, основанную на поиске кластера похожих пользователей.  \n",
    "Похожие они в том плане, что смотрят одинаковые фильмы и оценивают их приблизительно одинаково.  \n",
    "Мы будем строить очень простую модель, по сути которая даже не является именно системой рекомендации, но как минимум она может быть первым шагом к ее построению: мы найдем класет похожих пользователей, узнаем какие фильмы они смотрят и одинаково любят, какие жанры предпочитают.\n",
    "\n",
    "Лабораторная будет больше похожа на манипулции с одним большим датафреймом. Если у вас появятся интересные идеи, то можете попробовать их тоже. "
   ]
  },
  {
   "cell_type": "markdown",
   "metadata": {
    "colab_type": "text",
    "id": "almzVafJ8HSv"
   },
   "source": [
    "## Анализ отзывов аниме\n",
    "\n",
    "Возьмем датасет с рейтингами аниме: https://www.kaggle.com/CooperUnion/anime-recommendations-database  \n",
    "Кстати, вы можете посмотреть kernels - это jupyter notebooks, в которых другие люди тоже делали что-то с этим датасетом.\n",
    "\n",
    "```\n",
    "Anime.csv\n",
    "\n",
    "anime_id - myanimelist.net's unique id identifying an anime.\n",
    "name - full name of anime.\n",
    "genre - comma separated list of genres for this anime.\n",
    "type - movie, TV, OVA, etc.\n",
    "episodes - how many episodes in this show. (1 if movie).\n",
    "rating - average rating out of 10 for this anime.\n",
    "members - number of community members that are in this anime's \"group\".\n",
    "\n",
    "\n",
    "Rating.csv\n",
    "\n",
    "user_id - non identifiable randomly generated user id.\n",
    "anime_id - the anime that this user has rated.\n",
    "rating - rating out of 10 this user has assigned (-1 if the user watched it but didn't assign a rating).\n",
    "```"
   ]
  },
  {
   "cell_type": "code",
   "execution_count": 66,
   "metadata": {
    "colab": {},
    "colab_type": "code",
    "id": "K0-d1tiV8HSw"
   },
   "outputs": [],
   "source": [
    "import pandas as pd\n",
    "import numpy as np\n",
    "from matplotlib import pyplot as plt"
   ]
  },
  {
   "cell_type": "code",
   "execution_count": 67,
   "metadata": {
    "colab": {},
    "colab_type": "code",
    "id": "1G5HSUO-kguB"
   },
   "outputs": [],
   "source": [
    "colab = False\n",
    "if colab:\n",
    "    from google.colab import drive\n",
    "    drive.mount('/content/drive/')"
   ]
  },
  {
   "cell_type": "code",
   "execution_count": 68,
   "metadata": {
    "colab": {},
    "colab_type": "code",
    "id": "2NYDgUwv8HSz",
    "outputId": "4442d0e1-ad87-45b4-afee-41117a8cb9d9"
   },
   "outputs": [
    {
     "name": "stdout",
     "output_type": "stream",
     "text": [
      "(12017, 6)\n"
     ]
    },
    {
     "data": {
      "text/html": [
       "<div>\n",
       "<style scoped>\n",
       "    .dataframe tbody tr th:only-of-type {\n",
       "        vertical-align: middle;\n",
       "    }\n",
       "\n",
       "    .dataframe tbody tr th {\n",
       "        vertical-align: top;\n",
       "    }\n",
       "\n",
       "    .dataframe thead th {\n",
       "        text-align: right;\n",
       "    }\n",
       "</style>\n",
       "<table border=\"1\" class=\"dataframe\">\n",
       "  <thead>\n",
       "    <tr style=\"text-align: right;\">\n",
       "      <th></th>\n",
       "      <th>name</th>\n",
       "      <th>genre</th>\n",
       "      <th>type</th>\n",
       "      <th>episodes</th>\n",
       "      <th>rating</th>\n",
       "      <th>members</th>\n",
       "    </tr>\n",
       "    <tr>\n",
       "      <th>anime_id</th>\n",
       "      <th></th>\n",
       "      <th></th>\n",
       "      <th></th>\n",
       "      <th></th>\n",
       "      <th></th>\n",
       "      <th></th>\n",
       "    </tr>\n",
       "  </thead>\n",
       "  <tbody>\n",
       "    <tr>\n",
       "      <td>32281</td>\n",
       "      <td>Kimi no Na wa.</td>\n",
       "      <td>Drama, Romance, School, Supernatural</td>\n",
       "      <td>Movie</td>\n",
       "      <td>1</td>\n",
       "      <td>9.37</td>\n",
       "      <td>200630</td>\n",
       "    </tr>\n",
       "    <tr>\n",
       "      <td>5114</td>\n",
       "      <td>Fullmetal Alchemist: Brotherhood</td>\n",
       "      <td>Action, Adventure, Drama, Fantasy, Magic, Mili...</td>\n",
       "      <td>TV</td>\n",
       "      <td>64</td>\n",
       "      <td>9.26</td>\n",
       "      <td>793665</td>\n",
       "    </tr>\n",
       "    <tr>\n",
       "      <td>28977</td>\n",
       "      <td>Gintama°</td>\n",
       "      <td>Action, Comedy, Historical, Parody, Samurai, S...</td>\n",
       "      <td>TV</td>\n",
       "      <td>51</td>\n",
       "      <td>9.25</td>\n",
       "      <td>114262</td>\n",
       "    </tr>\n",
       "    <tr>\n",
       "      <td>9253</td>\n",
       "      <td>Steins;Gate</td>\n",
       "      <td>Sci-Fi, Thriller</td>\n",
       "      <td>TV</td>\n",
       "      <td>24</td>\n",
       "      <td>9.17</td>\n",
       "      <td>673572</td>\n",
       "    </tr>\n",
       "    <tr>\n",
       "      <td>9969</td>\n",
       "      <td>Gintama&amp;#039;</td>\n",
       "      <td>Action, Comedy, Historical, Parody, Samurai, S...</td>\n",
       "      <td>TV</td>\n",
       "      <td>51</td>\n",
       "      <td>9.16</td>\n",
       "      <td>151266</td>\n",
       "    </tr>\n",
       "  </tbody>\n",
       "</table>\n",
       "</div>"
      ],
      "text/plain": [
       "                                      name  \\\n",
       "anime_id                                     \n",
       "32281                       Kimi no Na wa.   \n",
       "5114      Fullmetal Alchemist: Brotherhood   \n",
       "28977                             Gintama°   \n",
       "9253                           Steins;Gate   \n",
       "9969                         Gintama&#039;   \n",
       "\n",
       "                                                      genre   type episodes  \\\n",
       "anime_id                                                                      \n",
       "32281                  Drama, Romance, School, Supernatural  Movie        1   \n",
       "5114      Action, Adventure, Drama, Fantasy, Magic, Mili...     TV       64   \n",
       "28977     Action, Comedy, Historical, Parody, Samurai, S...     TV       51   \n",
       "9253                                       Sci-Fi, Thriller     TV       24   \n",
       "9969      Action, Comedy, Historical, Parody, Samurai, S...     TV       51   \n",
       "\n",
       "          rating  members  \n",
       "anime_id                   \n",
       "32281       9.37   200630  \n",
       "5114        9.26   793665  \n",
       "28977       9.25   114262  \n",
       "9253        9.17   673572  \n",
       "9969        9.16   151266  "
      ]
     },
     "execution_count": 68,
     "metadata": {},
     "output_type": "execute_result"
    }
   ],
   "source": [
    "if colab:\n",
    "    anime = pd.read_csv('/content/drive/My Drive/Data/anime/anime.csv.zip', index_col='anime_id')\n",
    "else:\n",
    "    anime = pd.read_csv('./data/anime/anime.csv.zip', index_col='anime_id')\n",
    "anime.dropna(inplace=True)\n",
    "print(anime.shape)\n",
    "anime.head()"
   ]
  },
  {
   "cell_type": "code",
   "execution_count": 69,
   "metadata": {
    "colab": {},
    "colab_type": "code",
    "id": "qnll_W2M8HS3",
    "outputId": "5c3a77c3-0067-4db1-dfb8-f7e034ff3647"
   },
   "outputs": [
    {
     "data": {
      "text/html": [
       "<div>\n",
       "<style scoped>\n",
       "    .dataframe tbody tr th:only-of-type {\n",
       "        vertical-align: middle;\n",
       "    }\n",
       "\n",
       "    .dataframe tbody tr th {\n",
       "        vertical-align: top;\n",
       "    }\n",
       "\n",
       "    .dataframe thead th {\n",
       "        text-align: right;\n",
       "    }\n",
       "</style>\n",
       "<table border=\"1\" class=\"dataframe\">\n",
       "  <thead>\n",
       "    <tr style=\"text-align: right;\">\n",
       "      <th></th>\n",
       "      <th>user_id</th>\n",
       "      <th>anime_id</th>\n",
       "      <th>rating</th>\n",
       "    </tr>\n",
       "  </thead>\n",
       "  <tbody>\n",
       "    <tr>\n",
       "      <td>0</td>\n",
       "      <td>1</td>\n",
       "      <td>20</td>\n",
       "      <td>-1</td>\n",
       "    </tr>\n",
       "    <tr>\n",
       "      <td>1</td>\n",
       "      <td>1</td>\n",
       "      <td>24</td>\n",
       "      <td>-1</td>\n",
       "    </tr>\n",
       "    <tr>\n",
       "      <td>2</td>\n",
       "      <td>1</td>\n",
       "      <td>79</td>\n",
       "      <td>-1</td>\n",
       "    </tr>\n",
       "    <tr>\n",
       "      <td>3</td>\n",
       "      <td>1</td>\n",
       "      <td>226</td>\n",
       "      <td>-1</td>\n",
       "    </tr>\n",
       "    <tr>\n",
       "      <td>4</td>\n",
       "      <td>1</td>\n",
       "      <td>241</td>\n",
       "      <td>-1</td>\n",
       "    </tr>\n",
       "  </tbody>\n",
       "</table>\n",
       "</div>"
      ],
      "text/plain": [
       "   user_id  anime_id  rating\n",
       "0        1        20      -1\n",
       "1        1        24      -1\n",
       "2        1        79      -1\n",
       "3        1       226      -1\n",
       "4        1       241      -1"
      ]
     },
     "execution_count": 69,
     "metadata": {},
     "output_type": "execute_result"
    }
   ],
   "source": [
    "if colab:\n",
    "    ratings = pd.read_csv('/content/drive/My Drive/Data/anime/rating.csv.zip')\n",
    "else:\n",
    "    ratings = pd.read_csv('./data/anime/rating.csv.zip')\n",
    "ratings.head()"
   ]
  },
  {
   "cell_type": "markdown",
   "metadata": {
    "colab_type": "text",
    "id": "rxF5Pgmd8HS-"
   },
   "source": [
    "## Обзор данных (1 балл)\n",
    "\n",
    "Постройте графики для обзора признаков: anime.type, episodes, rating, members.\n",
    "\n",
    "Посмотрите на info по таблицам, нам важно знать сколько оперативной памяти занимает каждая таблица, так как дальше у нас будет декартово произведение таблиц и размер может вылететь за 5 гигабайт."
   ]
  },
  {
   "cell_type": "code",
   "execution_count": 70,
   "metadata": {
    "colab": {},
    "colab_type": "code",
    "id": "7qand2un8HTA"
   },
   "outputs": [
    {
     "name": "stdout",
     "output_type": "stream",
     "text": [
      "anime_id\n",
      "32281    Movie\n",
      "5114        TV\n",
      "28977       TV\n",
      "9253        TV\n",
      "9969        TV\n",
      "         ...  \n",
      "9316       OVA\n",
      "5543       OVA\n",
      "5621       OVA\n",
      "6133       OVA\n",
      "26081    Movie\n",
      "Name: type, Length: 12017, dtype: object\n",
      "<class 'pandas.core.frame.DataFrame'>\n",
      "Int64Index: 12017 entries, 32281 to 26081\n",
      "Data columns (total 6 columns):\n",
      "name        12017 non-null object\n",
      "genre       12017 non-null object\n",
      "type        12017 non-null object\n",
      "episodes    12017 non-null object\n",
      "rating      12017 non-null float64\n",
      "members     12017 non-null int64\n",
      "dtypes: float64(1), int64(1), object(4)\n",
      "memory usage: 3.6 MB\n",
      "<class 'pandas.core.frame.DataFrame'>\n",
      "RangeIndex: 7813737 entries, 0 to 7813736\n",
      "Data columns (total 3 columns):\n",
      "user_id     int64\n",
      "anime_id    int64\n",
      "rating      int64\n",
      "dtypes: int64(3)\n",
      "memory usage: 178.8 MB\n"
     ]
    },
    {
     "data": {
      "text/plain": [
       "<Figure size 1800x216 with 0 Axes>"
      ]
     },
     "metadata": {},
     "output_type": "display_data"
    }
   ],
   "source": [
    "# anime.type,anime.episodes, anime.rating, anime.members\n",
    "import seaborn as sns\n",
    "\n",
    "sns.set(style=\"whitegrid\")\n",
    "plt.figure(figsize=(25, 3))\n",
    "\n",
    "\n",
    "print(anime['type'])\n",
    "#sns.distplot(anime['members'])\n",
    "#sns.barplot(x=\"type\", y=\"\", data=anime)\n",
    "\n",
    "#print(anime['episodes'])\n",
    "#print(anime['rating'])\n",
    "#print(anime['members'])\n",
    "#print(anime.info)\n",
    "anime.info(memory_usage='deep')\n",
    "ratings.info(memory_usage='deep')"
   ]
  },
  {
   "cell_type": "markdown",
   "metadata": {
    "colab_type": "text",
    "id": "BEyCuBNT8HTD"
   },
   "source": [
    "## Жанры (4 балла)\n",
    "\n",
    "Как в материалах к воркшопу постройте таблицу, в которой в строках будет названиефильма, а в столбцах жанр. В ячейках 1 - если в этого фильма есть такой жанр и 0 иначе.\n",
    "\n",
    "Постройте countplot для визуализации количества фильмов каждого из жанров.\n",
    "\n",
    "Постройте график, на котором будут изображениы распределения рейтингов по каждому из жанров. Должно получиться что-то подобное: ![Imgur](https://i.imgur.com/hyuA6ia.png)"
   ]
  },
  {
   "cell_type": "code",
   "execution_count": 71,
   "metadata": {
    "colab": {},
    "colab_type": "code",
    "id": "7b89APVf8HTE"
   },
   "outputs": [
    {
     "name": "stderr",
     "output_type": "stream",
     "text": [
      "/home/arcades/.pyenv/versions/3.7.1/lib/python3.7/site-packages/ipykernel_launcher.py:27: SettingWithCopyWarning: \n",
      "A value is trying to be set on a copy of a slice from a DataFrame.\n",
      "Try using .loc[row_indexer,col_indexer] = value instead\n",
      "\n",
      "See the caveats in the documentation: http://pandas.pydata.org/pandas-docs/stable/user_guide/indexing.html#returning-a-view-versus-a-copy\n",
      "/home/arcades/.pyenv/versions/3.7.1/lib/python3.7/site-packages/ipykernel_launcher.py:28: SettingWithCopyWarning: \n",
      "A value is trying to be set on a copy of a slice from a DataFrame.\n",
      "Try using .loc[row_indexer,col_indexer] = value instead\n",
      "\n",
      "See the caveats in the documentation: http://pandas.pydata.org/pandas-docs/stable/user_guide/indexing.html#returning-a-view-versus-a-copy\n"
     ]
    },
    {
     "data": {
      "image/png": "[encoded data removed]",
      "text/plain": [
       "<Figure size 432x288 with 1 Axes>"
      ]
     },
     "metadata": {},
     "output_type": "display_data"
    }
   ],
   "source": [
    "from itertools import chain\n",
    "\n",
    "def genre_splitter(genre_names):\n",
    "    return map(lambda x: x.strip(),genre_names.split(\",\"))\n",
    "\n",
    "def flatmap(f, items):\n",
    "    return chain.from_iterable(map(f, items)) \n",
    "\n",
    "names = anime['name'];\n",
    "\n",
    "m_uniq = anime['genre'].unique()\n",
    "\n",
    "genres = pd.Series(list(flatmap(genre_splitter, m_uniq)))\n",
    "genres1 = genres.append(pd.Series(['title']),ignore_index=True)\n",
    "genres1 = genres1.unique()\n",
    "genres = genres.unique()\n",
    "#new_genres = list(genres)\n",
    "\n",
    "rating_genre = pd.DataFrame(np.zeros((len(names),len(genres1))),index = names,columns=genres1)\n",
    "rating_genre.head()\n",
    "name_genre = rating_genre.copy()\n",
    "titles = []\n",
    "for item in anime.index.values:\n",
    "    column = anime.loc[item , ['name', 'genre','rating'] ]\n",
    "    listing = list(genre_splitter(column['genre']))\n",
    "    for genre in listing:\n",
    "        rating_genre.loc[column['name'], :][genre] = column['rating']\n",
    "        name_genre.loc[column['name'], :][genre] = 1\n",
    "    titles.append(column['name'])\n",
    "    #name_genre.loc[column['name'], :]['title'] = \"gaga\" #column['name']\n",
    "name_genre['title'] = titles;    \n",
    "#rating_genre.head()\n",
    "#name_genre.head()\n",
    "ax = plt.subplot(111)\n",
    "\n",
    "for genre in name_genre.columns:\n",
    "    sns.kdeplot(anime[anime['genre'].str.contains(genre)]['rating'], shade=True, label = genre,ax = ax)\n"
   ]
  },
  {
   "cell_type": "markdown",
   "metadata": {
    "colab_type": "text",
    "id": "dQTQ1U6v8HTH"
   },
   "source": [
    "## Рейтинг (1 балл)\n",
    "\n",
    "Постройте график, показывающий сколько оценок каждого рейтинга поставили пользователи из таблицы `ratings`."
   ]
  },
  {
   "cell_type": "code",
   "execution_count": 75,
   "metadata": {
    "colab": {},
    "colab_type": "code",
    "id": "MMkXrIwh8HTI"
   },
   "outputs": [
    {
     "name": "stdout",
     "output_type": "stream",
     "text": [
      "    rating  user_id  anime_id\n",
      "0       -1  1476496   1476496\n",
      "1        1    16649     16649\n",
      "2        2    23150     23150\n",
      "3        3    41453     41453\n",
      "4        4   104291    104291\n",
      "5        5   282806    282806\n",
      "6        6   637775    637775\n",
      "7        7  1375287   1375287\n",
      "8        8  1646019   1646019\n",
      "9        9  1254096   1254096\n",
      "10      10   955715    955715\n"
     ]
    }
   ],
   "source": [
    "grouped_rating = ratings.groupby(['rating']).count().reset_index()\n",
    "#print(grouped_rating)"
   ]
  },
  {
   "cell_type": "code",
   "execution_count": 73,
   "metadata": {
    "colab": {},
    "colab_type": "code",
    "id": "GfEk-ax08HTO"
   },
   "outputs": [],
   "source": [
    "sns.barplot(x='rating',y='user_id',data=grouped_rating)"
   ]
  },
  {
   "cell_type": "markdown",
   "metadata": {
    "colab_type": "text",
    "id": "2FqM15638HTQ"
   },
   "source": [
    "## Фильтрация данных (5 баллов)\n",
    "\n",
    "Если мы сразу же построим кросстаб матрицу `anime` vs `user`, где в ячейках рейтинг, который поставил юзер этому фильму, то у нас это все займет около 6 гигабайт памяти. Можно значительно сократить размер матрицы, если выкинуть данные об аниме, которое почти никто не оценил и юзеров, которые почти ничего не оценивали.\n",
    "\n",
    "Для этого постройте два новых датафрейма:\n",
    "\n",
    "- anime_watches, где индексом является anime_name, а значением - количество его обзоров\n",
    "- user_ratings, где индексом является user_id, а значением - количество вниме, которое он оценил.\n",
    "\n",
    "Далее, соедините (join) 4 таблицы: ratings, anime, anime_watches, user_ratings и назовите новую таблицу anime_ratings.\n",
    "\n",
    "Что означает `-1` в таблице рейтинга? Замените все -1 на средний рейтинг аниме.\n",
    "\n",
    "Удалите из таблицы все те значения, у которых количество обзоров и рейтингов меньше медианного значения. То есть мы удалим половину аниме и половину юзеров."
   ]
  },
  {
   "cell_type": "code",
   "execution_count": 74,
   "metadata": {
    "colab": {},
    "colab_type": "code",
    "id": "YNQ9N9nA8HTR"
   },
   "outputs": [],
   "source": [
    "#anime_watches = pd.DataFrame()\n",
    "#user_ratings = pd.DataFrame()"
   ]
  },
  {
   "cell_type": "markdown",
   "metadata": {
    "colab_type": "text",
    "id": "VANeTVMr8HTV"
   },
   "source": [
    "## Матрица user-item (3 балла)\n",
    "\n",
    "Превратите таблицу anime_ratings в матрицу, где в строках user_id, в стобцах anime_name, а в ячейках рейтинг. Посмотрите сколько занимет в памяти эта матрица."
   ]
  },
  {
   "cell_type": "code",
   "execution_count": null,
   "metadata": {
    "colab": {},
    "colab_type": "code",
    "id": "IBCw9X2Z8HTW"
   },
   "outputs": [],
   "source": []
  },
  {
   "cell_type": "markdown",
   "metadata": {
    "colab_type": "text",
    "id": "oOz0vZvB8HTZ"
   },
   "source": [
    "## Понижение размерности (1 балл)\n",
    "\n",
    "kNN будет плохо работать на многомерных данных, поэтому надо понизить размерности матрицы с помощью алгоритма PCA. Количество размерностей установите от 4 до 10 - как вам покажется оптимальнее. (можете это исправить когда запустите kNN и получите результаты)."
   ]
  },
  {
   "cell_type": "code",
   "execution_count": null,
   "metadata": {
    "colab": {},
    "colab_type": "code",
    "id": "Wol-ji5j8HTb"
   },
   "outputs": [],
   "source": []
  },
  {
   "cell_type": "markdown",
   "metadata": {
    "colab_type": "text",
    "id": "MVbRIZKe8HTe"
   },
   "source": [
    "## Обучение kMeans (1 балл)\n",
    "\n",
    "Обучим kMeans, чтобы он нашел нам центры кластеров нашей выборки.\n",
    "\n",
    "Так как в строках у нас user_id, то центры класетров - это будут характеристики пользователей в терминах их оценок аниме. Используя эту информацию мы можем вычислить список характерных аниме для конкретного кластера.\n",
    "\n",
    "- обучите kMeans\n",
    "- создайте копию матрицы и добавьте новую колонку - кластер. Положите в нее результат предсказания кластера для каждого пользователя. (метод predict)\n",
    "- нарисуйте cout plot количества юзеров в каждом кластере. Если получается сильно неравномерное распределение, то вам надо подобрать другое количество кластеров или изменить размерность в предыдущем шаге."
   ]
  },
  {
   "cell_type": "code",
   "execution_count": null,
   "metadata": {
    "colab": {},
    "colab_type": "code",
    "id": "1qyXLZRe8HTg"
   },
   "outputs": [],
   "source": []
  },
  {
   "cell_type": "markdown",
   "metadata": {
    "colab_type": "text",
    "id": "CXcwWcI_8HTi"
   },
   "source": [
    "## Top 15 аниме (2 балла)\n",
    "\n",
    "Найдем Top-15 аниме для каждого кластера. Для этого:\n",
    "\n",
    "- найдите средний рейтинг аниме в каждом кластере. \n",
    "- для каждого кластера возьмите набор аниме с их средним рейтингом, отсортируйте этот набор по убыванию рейтинга. \n",
    "- возьмите первые 15 элементов из набора - это и будет топ15 аниме в кластере.\n",
    "- согласны ли вы с содержимым кластера?"
   ]
  },
  {
   "cell_type": "code",
   "execution_count": null,
   "metadata": {
    "colab": {},
    "colab_type": "code",
    "id": "9EL1vwRq8HTj"
   },
   "outputs": [],
   "source": []
  },
  {
   "cell_type": "markdown",
   "metadata": {
    "colab_type": "text",
    "id": "E4YyUmKh8HTl"
   },
   "source": [
    "## Top 5 жанров (2 балла)\n",
    "\n",
    "Если соеднить таблицу с аниме с таблицей жанров, то можно найти топ жанров для каждого кластера. Придумайте сами как это сделать, так как тут много способов:\n",
    "\n",
    "- найти средний рейтинг для аниме каждого жанра\n",
    "- посчитать сколько представителей каждого жанра есть среди top100 аниме кластера (кстати работает лучше)\n",
    "- ???"
   ]
  },
  {
   "cell_type": "code",
   "execution_count": null,
   "metadata": {
    "colab": {},
    "colab_type": "code",
    "id": "flrlgX7Z8HTm"
   },
   "outputs": [],
   "source": []
  },
  {
   "cell_type": "code",
   "execution_count": null,
   "metadata": {
    "colab": {},
    "colab_type": "code",
    "id": "82L881nx8HTp"
   },
   "outputs": [],
   "source": []
  }
 ],
 "metadata": {
  "colab": {
   "collapsed_sections": [],
   "name": "03-clustering.ipynb",
   "provenance": []
  },
  "kernelspec": {
   "display_name": "Python 3",
   "language": "python",
   "name": "python3"
  },
  "language_info": {
   "codemirror_mode": {
    "name": "ipython",
    "version": 3
   },
   "file_extension": ".py",
   "mimetype": "text/x-python",
   "name": "python",
   "nbconvert_exporter": "python",
   "pygments_lexer": "ipython3",
   "version": "3.7.1"
  }
 },
 "nbformat": 4,
 "nbformat_minor": 1
}
