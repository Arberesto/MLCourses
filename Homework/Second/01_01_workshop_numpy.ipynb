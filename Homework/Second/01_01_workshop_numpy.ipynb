{
 "cells": [
  {
   "cell_type": "markdown",
   "metadata": {
    "colab_type": "text",
    "id": "xEDDrTjf3c0v"
   },
   "source": [
    "# 1.1 Numpy\n",
    "\n",
    "1. Скачайте этот ноутбук к себе.\n",
    "2. Заполните пропущенные ячейки, отвечая на заданные вопросы. Там должен быть код! (если не сказано обратное)\n",
    "3. Сохраните результат в своём гитхаб репозитории.\n",
    "\n",
    "#### Полезная литература\n",
    "\n",
    "- http://www.numpy.org/\n",
    "- https://jakevdp.github.io/PythonDataScienceHandbook/02.00-introduction-to-numpy.html\n",
    "- https://docs.scipy.org/doc/numpy/user/quickstart.html"
   ]
  },
  {
   "cell_type": "markdown",
   "metadata": {
    "colab_type": "text",
    "id": "Y8NTPSWYCkuL"
   },
   "source": [
    "## Часть 1 (19 баллов)"
   ]
  },
  {
   "cell_type": "markdown",
   "metadata": {
    "colab_type": "text",
    "id": "_8usUaZw3c0z"
   },
   "source": [
    "1) Импортировать numpy и написать версию (1 балл)"
   ]
  },
  {
   "cell_type": "code",
   "execution_count": 90,
   "metadata": {
    "colab": {},
    "colab_type": "code",
    "id": "DJoI3cBfSYIv"
   },
   "outputs": [],
   "source": [
    "import numpy as np"
   ]
  },
  {
   "cell_type": "code",
   "execution_count": 5,
   "metadata": {
    "colab": {},
    "colab_type": "code",
    "id": "3pKE62cJ3c02"
   },
   "outputs": [],
   "source": [
    "np.__version__\n",
    "np.random.seed(0)"
   ]
  },
  {
   "cell_type": "markdown",
   "metadata": {
    "colab_type": "text",
    "id": "rZ9_tUuB3c0_"
   },
   "source": [
    "2) Создать нулевой вектор размера 10 (1 балл)"
   ]
  },
  {
   "cell_type": "code",
   "execution_count": 7,
   "metadata": {
    "colab": {},
    "colab_type": "code",
    "id": "sx92SQ9Q3c1C"
   },
   "outputs": [
    {
     "name": "stdout",
     "output_type": "stream",
     "text": [
      "[0 0 0 0 0 0 0 0 0 0]\n"
     ]
    }
   ],
   "source": [
    "a = np.full(shape=10,fill_value=0)\n",
    "print(a)"
   ]
  },
  {
   "cell_type": "markdown",
   "metadata": {
    "colab_type": "text",
    "id": "cd_BgkDc3c1I"
   },
   "source": [
    "3) Создать вектор заполненный 7-ами размера 7 (2 балла)\n"
   ]
  },
  {
   "cell_type": "code",
   "execution_count": 0,
   "metadata": {
    "colab": {},
    "colab_type": "code",
    "id": "pFjymd7P3c1K"
   },
   "outputs": [],
   "source": [
    "b = np.full(shape=7,fill_value=7)\n",
    "print(b)"
   ]
  },
  {
   "cell_type": "markdown",
   "metadata": {
    "colab_type": "text",
    "id": "gBS80NH53c1P"
   },
   "source": [
    "4) Создать вектор заполненный четными числами от 10 до 100 включительно (2 балла)"
   ]
  },
  {
   "cell_type": "code",
   "execution_count": 9,
   "metadata": {
    "colab": {},
    "colab_type": "code",
    "id": "Zwynbeg_3c1Q"
   },
   "outputs": [
    {
     "name": "stdout",
     "output_type": "stream",
     "text": [
      "[ 10  20  30  40  50  60  70  80  90 100]\n"
     ]
    }
   ],
   "source": [
    "c = np.arange(start=10,stop=110,step=10)\n",
    "print(c)"
   ]
  },
  {
   "cell_type": "markdown",
   "metadata": {
    "colab_type": "text",
    "id": "FhO90mV63c1X"
   },
   "source": [
    "5) Создать массив случайных чисел и развернуть его задом наперёд (4 балла)"
   ]
  },
  {
   "cell_type": "code",
   "execution_count": 8,
   "metadata": {
    "colab": {},
    "colab_type": "code",
    "id": "de4nD5Ye3c1Z"
   },
   "outputs": [
    {
     "name": "stdout",
     "output_type": "stream",
     "text": [
      "[1 7 3 1 3 6]\n",
      "[6 3 1 3 7 1]\n"
     ]
    }
   ],
   "source": [
    "d = np.random.randint(10, size=6)\n",
    "print(d)\n",
    "e = d[::-1]\n",
    "print(e)"
   ]
  },
  {
   "cell_type": "markdown",
   "metadata": {
    "colab_type": "text",
    "id": "CInYc9pC3c1e"
   },
   "source": [
    "6) Создать двумерную матрицу размера 3 на 3, заполненную числами от 0 до 9 (4 балла)"
   ]
  },
  {
   "cell_type": "code",
   "execution_count": 13,
   "metadata": {
    "colab": {},
    "colab_type": "code",
    "id": "TBbViWEr3c1f"
   },
   "outputs": [
    {
     "name": "stdout",
     "output_type": "stream",
     "text": [
      "[[0 1 2]\n",
      " [3 4 5]\n",
      " [6 7 8]]\n"
     ]
    }
   ],
   "source": [
    "f = np.arange(9).reshape(3,3)\n",
    "print(f)"
   ]
  },
  {
   "cell_type": "markdown",
   "metadata": {
    "colab_type": "text",
    "id": "nSbf7GB-3c1k"
   },
   "source": [
    "7) Создать матрицу размера 4 на 4 с единицами на диагонали смещеной на один наверх. (5 баллов)"
   ]
  },
  {
   "cell_type": "code",
   "execution_count": 30,
   "metadata": {
    "colab": {},
    "colab_type": "code",
    "id": "wbC7lquy3c1m"
   },
   "outputs": [
    {
     "name": "stdout",
     "output_type": "stream",
     "text": [
      "[[0 1 0 0]\n",
      " [0 0 1 0]\n",
      " [0 0 0 1]\n",
      " [0 0 0 0]]\n"
     ]
    }
   ],
   "source": [
    "g = np.eye(4,k=1,dtype='int')\n",
    "print(g)"
   ]
  },
  {
   "cell_type": "markdown",
   "metadata": {
    "colab_type": "text",
    "id": "eW7tC35y3c1q"
   },
   "source": [
    "## Часть 2 (26 баллов)"
   ]
  },
  {
   "cell_type": "markdown",
   "metadata": {
    "colab_type": "text",
    "id": "E2SzUleV3c1s"
   },
   "source": [
    "1) Создать матрицу с числами в диапазоне от 1 до 4 по диагонали. В других ячейках матрицы должны быть семерки. (2 балла)"
   ]
  },
  {
   "cell_type": "code",
   "execution_count": 39,
   "metadata": {
    "colab": {},
    "colab_type": "code",
    "id": "a-nFesOU3c1v"
   },
   "outputs": [
    {
     "name": "stdout",
     "output_type": "stream",
     "text": [
      "[[1 7 7 7]\n",
      " [7 2 7 7]\n",
      " [7 7 3 7]\n",
      " [7 7 7 4]]\n"
     ]
    }
   ],
   "source": [
    "h = np.full(shape=16,fill_value=7).reshape(4,4)\n",
    "h_a = np.arange(4) + 1\n",
    "np.fill_diagonal(h, h_a)\n",
    "print(h)"
   ]
  },
  {
   "cell_type": "markdown",
   "metadata": {
    "colab_type": "text",
    "id": "h2-CQcQQ3c10"
   },
   "source": [
    "2) Создать матрицу размера 5 на 5 заполненную чилами от 0 до 4 в строках. (2 балла)"
   ]
  },
  {
   "cell_type": "code",
   "execution_count": 27,
   "metadata": {
    "colab": {},
    "colab_type": "code",
    "id": "mqQT3x-a3c13"
   },
   "outputs": [
    {
     "name": "stdout",
     "output_type": "stream",
     "text": [
      "[[0 1 2 3 4]\n",
      " [0 1 2 3 4]\n",
      " [0 1 2 3 4]\n",
      " [0 1 2 3 4]\n",
      " [0 1 2 3 4]]\n"
     ]
    }
   ],
   "source": [
    "i_a = np.arange(5)\n",
    "i = np.tile(i_a, (5, 1))\n",
    "#or i = np.zeros((5,5))\n",
    "#   i += i_a\n",
    "print(i)"
   ]
  },
  {
   "cell_type": "markdown",
   "metadata": {
    "colab_type": "text",
    "id": "NbqXnGtF3c17"
   },
   "source": [
    "3) Создать матрицу случайных чисел размера 10 на 10 и отнять среднее по строкам из каждого элемента строки (3 балла)"
   ]
  },
  {
   "cell_type": "code",
   "execution_count": 45,
   "metadata": {
    "colab": {},
    "colab_type": "code",
    "id": "rSVnkFco3c19"
   },
   "outputs": [
    {
     "name": "stdout",
     "output_type": "stream",
     "text": [
      "[[3 4 1 1 0 7 8 4 3 5]\n",
      " [6 3 2 9 8 1 4 0 8 3]\n",
      " [9 5 5 1 7 8 6 4 7 3]\n",
      " [5 3 6 4 7 3 0 5 9 3]\n",
      " [7 5 5 8 0 8 3 6 9 3]\n",
      " [2 7 0 3 0 3 6 1 9 2]\n",
      " [9 4 9 1 3 2 4 9 7 4]\n",
      " [9 4 1 2 7 2 3 9 7 6]\n",
      " [6 2 3 6 0 8 0 7 6 5]\n",
      " [9 6 5 2 7 1 9 2 2 5]]\n",
      "[[-0.6  0.4 -2.6 -2.6 -3.6  3.4  4.4  0.4 -0.6  1.4]\n",
      " [ 1.6 -1.4 -2.4  4.6  3.6 -3.4 -0.4 -4.4  3.6 -1.4]\n",
      " [ 3.5 -0.5 -0.5 -4.5  1.5  2.5  0.5 -1.5  1.5 -2.5]\n",
      " [ 0.5 -1.5  1.5 -0.5  2.5 -1.5 -4.5  0.5  4.5 -1.5]\n",
      " [ 1.6 -0.4 -0.4  2.6 -5.4  2.6 -2.4  0.6  3.6 -2.4]\n",
      " [-1.3  3.7 -3.3 -0.3 -3.3 -0.3  2.7 -2.3  5.7 -1.3]\n",
      " [ 3.8 -1.2  3.8 -4.2 -2.2 -3.2 -1.2  3.8  1.8 -1.2]\n",
      " [ 4.  -1.  -4.  -3.   2.  -3.  -2.   4.   2.   1. ]\n",
      " [ 1.7 -2.3 -1.3  1.7 -4.3  3.7 -4.3  2.7  1.7  0.7]\n",
      " [ 4.2  1.2  0.2 -2.8  2.2 -3.8  4.2 -2.8 -2.8  0.2]]\n"
     ]
    }
   ],
   "source": [
    "j = np.random.randint(10, size=100).reshape(10,10)\n",
    "print(j)\n",
    "print()\n",
    "j = np.apply_along_axis( lambda x: x - x.mean(), axis=1, arr=j)\n",
    "print(j)"
   ]
  },
  {
   "cell_type": "markdown",
   "metadata": {
    "colab_type": "text",
    "id": "4o-V5Ekp3c2B"
   },
   "source": [
    "4) Создать матрицу случайных чисел размера 10 на 10 и отнять медиану по столбцам из каждого элемента столбца (4 балла)"
   ]
  },
  {
   "cell_type": "code",
   "execution_count": 79,
   "metadata": {
    "colab": {},
    "colab_type": "code",
    "id": "Ht70ullB3c2C"
   },
   "outputs": [
    {
     "name": "stdout",
     "output_type": "stream",
     "text": [
      "[[0 8 2 5 4 2 4 2 0 1]\n",
      " [5 5 8 0 0 5 7 3 6 0]\n",
      " [2 0 5 1 7 3 2 3 2 3]\n",
      " [7 7 1 4 6 7 0 0 6 4]\n",
      " [4 5 1 2 6 8 2 9 9 5]\n",
      " [5 8 5 9 1 9 4 6 9 8]\n",
      " [0 5 6 0 6 0 6 7 1 1]\n",
      " [5 0 6 4 4 4 7 2 1 4]\n",
      " [9 8 4 4 7 0 7 8 9 9]\n",
      " [5 2 6 9 5 6 5 3 3 0]]\n",
      "\n",
      "[5.  5.  5.  4.  5.5 4.5 4.5 3.  4.5 3.5] - median\n",
      "\n",
      "[[-5.   3.  -3.   1.  -1.5 -2.5 -0.5 -1.  -4.5 -2.5]\n",
      " [ 0.   0.   3.  -4.  -5.5  0.5  2.5  0.   1.5 -3.5]\n",
      " [-3.  -5.   0.  -3.   1.5 -1.5 -2.5  0.  -2.5 -0.5]\n",
      " [ 2.   2.  -4.   0.   0.5  2.5 -4.5 -3.   1.5  0.5]\n",
      " [-1.   0.  -4.  -2.   0.5  3.5 -2.5  6.   4.5  1.5]\n",
      " [ 0.   3.   0.   5.  -4.5  4.5 -0.5  3.   4.5  4.5]\n",
      " [-5.   0.   1.  -4.   0.5 -4.5  1.5  4.  -3.5 -2.5]\n",
      " [ 0.  -5.   1.   0.  -1.5 -0.5  2.5 -1.  -3.5  0.5]\n",
      " [ 4.   3.  -1.   0.   1.5 -4.5  2.5  5.   4.5  5.5]\n",
      " [ 0.  -3.   1.   5.  -0.5  1.5  0.5  0.  -1.5 -3.5]]\n"
     ]
    }
   ],
   "source": [
    "j = np.random.randint(10, size=100).reshape(10,10)\n",
    "print(j)\n",
    "print()\n",
    "j_m = np.median(j,axis=0)\n",
    "print('{0} - median'.format(j_m))\n",
    "print()\n",
    "j = np.apply_along_axis( lambda x: x - j_m, axis=1, arr=j)\n",
    "print(j)"
   ]
  },
  {
   "cell_type": "markdown",
   "metadata": {
    "colab_type": "text",
    "id": "DpCnBCgY3c2G"
   },
   "source": [
    "5) Создать матрицу случайных чисел 5x5. Добавить к ней столбцы максимумов и минимумов по строкам. Получится матрица 5x7. (4 балла) "
   ]
  },
  {
   "cell_type": "code",
   "execution_count": 94,
   "metadata": {
    "colab": {},
    "colab_type": "code",
    "id": "WW-qwkip3c2I"
   },
   "outputs": [
    {
     "name": "stdout",
     "output_type": "stream",
     "text": [
      "[[3 4 1 0 9]\n",
      " [9 3 9 3 4]\n",
      " [6 5 7 1 5]\n",
      " [7 6 6 6 1]\n",
      " [8 4 2 0 2]]\n",
      "\n",
      "[9 9 7 7 8] - max\n",
      "[0 3 1 1 0] - min\n",
      "\n",
      "[[3 4 1 0 9 9 0]\n",
      " [9 3 9 3 4 9 3]\n",
      " [6 5 7 1 5 7 1]\n",
      " [7 6 6 6 1 7 1]\n",
      " [8 4 2 0 2 8 0]]\n"
     ]
    }
   ],
   "source": [
    "j = np.random.randint(10, size=25).reshape(5,5)\n",
    "print(j)\n",
    "print()\n",
    "j_max = j.max(axis = 1)\n",
    "print('{0} - max'.format(j_max))\n",
    "j_min = j.min(axis = 1)\n",
    "print('{0} - min'.format(j_min))\n",
    "print()\n",
    "j = np.column_stack((np.column_stack((j, j_max)),j_min))\n",
    "print(j)"
   ]
  },
  {
   "cell_type": "markdown",
   "metadata": {
    "colab_type": "text",
    "id": "WDmNazJU3c2M"
   },
   "source": [
    "6) Вектор чисел от 1 до 50 преобразовать в вектор нечетных чисел и в вектор четных чисел, поменять их размерности, чтобы получились две матрицы. Найти произведение этих матриц. Найти обратную матрицу этого произведения.  (6 баллов)"
   ]
  },
  {
   "cell_type": "code",
   "execution_count": 97,
   "metadata": {
    "colab": {},
    "colab_type": "code",
    "id": "WSpTw7Hz3c2N"
   },
   "outputs": [
    {
     "name": "stdout",
     "output_type": "stream",
     "text": [
      "[ 1  2  3  4  5  6  7  8  9 10 11 12 13 14 15 16 17 18 19 20 21 22 23 24\n",
      " 25 26 27 28 29 30 31 32 33 34 35 36 37 38 39 40 41 42 43 44 45 46 47 48\n",
      " 49 50]\n",
      "\n",
      "[[ 1  3  5  7  9]\n",
      " [11 13 15 17 19]\n",
      " [21 23 25 27 29]\n",
      " [31 33 35 37 39]\n",
      " [41 43 45 47 49]]\n",
      "\n",
      "[[ 2  4  6  8 10]\n",
      " [12 14 16 18 20]\n",
      " [22 24 26 28 30]\n",
      " [32 34 36 38 40]\n",
      " [42 44 46 48 50]]\n",
      "\n",
      "[[ 830  890  950 1010 1070]\n",
      " [1880 2040 2200 2360 2520]\n",
      " [2930 3190 3450 3710 3970]\n",
      " [3980 4340 4700 5060 5420]\n",
      " [5030 5490 5950 6410 6870]]\n",
      "\n",
      "0.0 - determinant\n",
      "Обратной матрицы нет, т.к определитель равен 0\n"
     ]
    }
   ],
   "source": [
    "k = np.arange(50) + 1\n",
    "print(k)\n",
    "print()\n",
    "k_odd = np.asmatrix(k[::2]).reshape(5,5)\n",
    "print(k_odd)\n",
    "print()\n",
    "k_even = np.asmatrix(k[1::2]).reshape(5,5)\n",
    "print(k_even)\n",
    "print()\n",
    "k_mul = k_even * k_odd\n",
    "print(k_mul) \n",
    "print()\n",
    "k_det = np.linalg.det(k_mul)\n",
    "print('{0} - determinant'.format(k_det))\n",
    "if k_det != 0:\n",
    "    print(k_mul.I)\n",
    "else:\n",
    "    print('Обратной матрицы нет, т.к определитель равен 0')"
   ]
  },
  {
   "cell_type": "markdown",
   "metadata": {
    "colab_type": "text",
    "id": "gLEf2sBp3c2S"
   },
   "source": [
    "7) Создать 8x8 матрицу и заполнить её в шахматном порядке нулями и единицами. (5 баллов)"
   ]
  },
  {
   "cell_type": "code",
   "execution_count": 82,
   "metadata": {
    "colab": {},
    "colab_type": "code",
    "id": "im-KzI8-3c2S"
   },
   "outputs": [
    {
     "name": "stdout",
     "output_type": "stream",
     "text": [
      "[[0 1 0 1 0 1 0 1]\n",
      " [1 0 1 0 1 0 1 0]\n",
      " [0 1 0 1 0 1 0 1]\n",
      " [1 0 1 0 1 0 1 0]\n",
      " [0 1 0 1 0 1 0 1]\n",
      " [1 0 1 0 1 0 1 0]\n",
      " [0 1 0 1 0 1 0 1]\n",
      " [1 0 1 0 1 0 1 0]]\n"
     ]
    }
   ],
   "source": [
    "l = np.zeros((8,8), dtype=int)\n",
    "l[1::2,::2] = 1\n",
    "l[::2,1::2] = 1\n",
    "print(l)"
   ]
  },
  {
   "cell_type": "code",
   "execution_count": null,
   "metadata": {},
   "outputs": [],
   "source": []
  }
 ],
 "metadata": {
  "colab": {
   "collapsed_sections": [],
   "name": "01-01-workshop-numpy.ipynb",
   "provenance": []
  },
  "kernelspec": {
   "display_name": "Python 3",
   "language": "python",
   "name": "python3"
  },
  "language_info": {
   "codemirror_mode": {
    "name": "ipython",
    "version": 3
   },
   "file_extension": ".py",
   "mimetype": "text/x-python",
   "name": "python",
   "nbconvert_exporter": "python",
   "pygments_lexer": "ipython3",
   "version": "3.7.1"
  }
 },
 "nbformat": 4,
 "nbformat_minor": 1
}
