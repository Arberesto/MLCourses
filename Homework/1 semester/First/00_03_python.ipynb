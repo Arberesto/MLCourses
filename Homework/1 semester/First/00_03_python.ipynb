{
 "cells": [
  {
   "cell_type": "markdown",
   "metadata": {
    "colab_type": "text",
    "id": "7A4juSnqHt7I"
   },
   "source": [
    "# 1.3 Python 3. Список.\n",
    "\n",
    "С базовыми фичами языка можно ознакомиться в материалах к данной теме.\n",
    "\n",
    "Предполагается, что вы смогли сделать задания из первой части домашней работы.\n",
    "\n",
    "\n",
    "**Не допускается использование сторонних бибилиотек типа numpy!**"
   ]
  },
  {
   "cell_type": "markdown",
   "metadata": {
    "colab_type": "text",
    "id": "x8t4kAiWHt7V"
   },
   "source": [
    "# Домашняя работа 1 (Хардкорная). Список.\n",
    "\n",
    "## Теория\n",
    "\n",
    "Мы пойдем весьма необычным путём. В этом задании вы будете реализовывать последовательность(связный список) с помощью рекурсии и базового элемента `tuple`. Это отличается от классического связного списка, основанного на структуре и указателе `next`, когда обход бы делался с помощью `for`, пока не встретился бы _null pointer_.\n",
    "\n",
    "Немного теории. Допустим у нас есть связная последовательность чисел ![](https://senior-sigan.ml/fcs-programming-technology/assets/linked_list.png)\n",
    "\n",
    "Её можно представить в виде последовательности вложенных друг в друга пар: `seq=(1, (2, (3, 4)))`. Тогда чтобы взять последний элемент списка нужно сделать `seq[1][1][1]`. Или если создать специальную вспомогательную функцию `tail`: `tail(tail(tail(seq)))`, что немного математичнее.\n",
    "\n",
    "> Использовать цикл `for`, `while` **запрещено**. Только рекурсия, только хардкор.\n",
    "\n",
    "Можно использовать классы и переопределять операторы, но не обязательно. Как делать классы можно прочитать [тут](https://learnxinyminutes.com/docs/ru-ru/python3-ru/) или в официальной [документации](https://docs.python.org/3/tutorial/classes.html).\n",
    "\n",
    "_Комментарий:_ ваш список должен уметь быть пустым, чтобы его длина была 0. Это потребуется в следующем задании.\n",
    "\n",
    "Далее список задач и примеры функций. Если вы делаете в ООП стиле, то придумайте методы самостоятельно, главное чтобы идея была такая же.\n",
    "\n",
    "### Рекурсивно связная последовательность. Easy.\n",
    "\n",
    "- взятие элемента по индексу `at(seq(1,2,3), 1) == 2`\n",
    "- вычисление длины последовательности `size(seq(1,2)) == 2`\n",
    "- сравнение массивов `eq(seq(1,2), seq(1,2)) == Treu`, `eq(seq(1,2,3), seq(1,2)) == False`\n",
    "\n",
    "### Функции над рекурсивно связаной последовательностью. Moderate.\n",
    "\n",
    "- взятие хвоста последовательности, пропустив N значений, `eq(tail(seq(1,2,3,4), 2), seq(3,4)) == True`\n",
    "- соединение двух списков `eq(concat(seq(1,2), seq(3,4)), seq(1,2,3,4)) == True`\n",
    "- функция `for_each` для обхода списка `for_each(seq(1,2,3,4), lambda x: print(x))`\n",
    "- функция `for_each_indexed` для обхода списка с индексом `for_each(seq(1,2,3,4), lambda i, x: print(i, x))`\n",
    "\n",
    "### Трансформаторы, фильтры, свёртки рекурсивных списков. Hard.\n",
    "\n",
    "- функция преобразования `map`: `map(seq(1,2,3,4), lambda x: x**2) == seq(1,4,9,16)`\n",
    "- функция фильтрации `filter`: `filter(seq(1,2,3,4),lambda x: x%2==1) == seq(1,3)`\n",
    "- функция редуцирования `reduce`: `reduce(s=seq(1,2,3,4), init_value=0, func=lambda acc, cur: acc+cur) == 0+1+2+3+4==10`\n",
    "- на основе функции редуцирования сделать функцию конвертации последовательности в python list `list(seq(1,2,3,4)) == [1,2,3,4]`\n",
    "\n",
    "### Дополнительное задание, если интересно:\n",
    "\n",
    "- на основе функции редуцирования сделать функцию flat_map, которая превращает последовательность последовательностей в последовательность. `flat_map(seq(1,2,3), lambda x: seq(x, x + 10)) == seq(1, 11, 2, 12, 3, 13)`"
   ]
  },
  {
   "cell_type": "code",
   "execution_count": 5,
   "metadata": {
    "colab": {},
    "colab_type": "code",
    "id": "cO2L9xglHt7W",
    "outputId": "13af86ca-540e-4e64-9fd3-43b96ab33980"
   },
   "outputs": [
    {
     "name": "stdout",
     "output_type": "stream",
     "text": [
      "2\n"
     ]
    },
    {
     "data": {
      "text/plain": [
       "False"
      ]
     },
     "execution_count": 5,
     "metadata": {},
     "output_type": "execute_result"
    }
   ],
   "source": [
    "# Воспользуйтесь этим начальным кодом, чтобы реализовать нужный процедуры\n",
    "\n",
    "class Pair(object):\n",
    "\n",
    "    \n",
    "    \n",
    "    def __init__(*elements):\n",
    "        def first(x):\n",
    "            return x[0]\n",
    "        def other(x):\n",
    "            return x[1:]\n",
    "\n",
    "        if len(self,elements) == 0:\n",
    "            self.first = self.second =  None\n",
    "\n",
    "        if len(self,elements) == 1:\n",
    "            self.first = first(elements)\n",
    "            self.second = None\n",
    "\n",
    "        if len(self,elements) == 2:\n",
    "            self.first = first(elements)\n",
    "            self.second = other(elements)\n",
    "\n",
    "        self.first = first(elements) \n",
    "        self.second = Pair(elements = *other(elements))\n",
    "    \n",
    "    def head(self,pair):\n",
    "        if pair is None:\n",
    "            return None\n",
    "        return pair[0]\n",
    "\n",
    "    def tail(self,pair):\n",
    "        if pair is None:\n",
    "            return None\n",
    "        if len(pair) < 2:\n",
    "            return None\n",
    "        return pair[1]\n",
    "\n",
    "    def Seq(self,*elements):\n",
    "        def first(x):\n",
    "            return x[0]\n",
    "        def other(x):\n",
    "            return x[1:]\n",
    "\n",
    "        if len(self,elements) == 0:\n",
    "            return None\n",
    "\n",
    "        if len(self,elements) == 1:\n",
    "            return first(elements), None\n",
    "\n",
    "        if len(self,elements) == 2:\n",
    "            return first(elements), other(elements)\n",
    "\n",
    "        return first(elements), Seq(*other(elements))\n",
    "\n",
    "    def at(self,sequence, index):\n",
    "    \n",
    "        if (len(sequence) != 0):\n",
    "            print(len(sequence))\n",
    "            if len(sequence) == 1:\n",
    "        \n",
    "            if len(sequence) == 2:\n",
    "               #if le\n",
    "            #return child\n",
    "        return None\n",
    "    \n",
    "\n",
    "s = Pair(elements = (1,2,3,4,5))\n",
    "#s == (1, (2, (3, (4, (5,)))))\n",
    "#head(s) == 1\n",
    "#tail(s) == (2, (3, (4, (5,))))\n",
    "at(s,2) == 3"
   ]
  },
  {
   "cell_type": "code",
   "execution_count": 0,
   "metadata": {
    "colab": {},
    "colab_type": "code",
    "id": "4R1o2_ExHt7d"
   },
   "outputs": [],
   "source": [
    "# тут ваш код и примеры его работы"
   ]
  }
 ],
 "metadata": {
  "colab": {
   "collapsed_sections": [],
   "name": "00-03_python.ipynb",
   "provenance": []
  },
  "kernelspec": {
   "display_name": "Python 3",
   "language": "python",
   "name": "python3"
  },
  "language_info": {
   "codemirror_mode": {
    "name": "ipython",
    "version": 3
   },
   "file_extension": ".py",
   "mimetype": "text/x-python",
   "name": "python",
   "nbconvert_exporter": "python",
   "pygments_lexer": "ipython3",
   "version": "3.7.1"
  }
 },
 "nbformat": 4,
 "nbformat_minor": 1
}
