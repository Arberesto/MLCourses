{
 "cells": [
  {
   "cell_type": "code",
   "execution_count": 1,
   "metadata": {},
   "outputs": [],
   "source": [
    "#!pip3 install librosa\n",
    "#!pip3 install sounddevice\n",
    "#!pip3 install pyaudio  #there will be gcc error\n",
    "#installing this before installing pyaudio worked for me\n",
    "#sudo apt-get install libasound-dev portaudio19-dev libportaudio2 libportaudiocpp0 \n",
    "import IPython.display as ipd\n",
    "from ipywidgets import widgets\n",
    "from functools import partial\n",
    "%matplotlib inline\n",
    "import matplotlib.pyplot as plt\n",
    "import librosa\n",
    "import librosa.display\n",
    "import pyaudio\n",
    "import numpy as np\n",
    "import time"
   ]
  },
  {
   "cell_type": "code",
   "execution_count": null,
   "metadata": {},
   "outputs": [],
   "source": [
    "audio_path = './Icon.wav'\n",
    "x , sr = librosa.load(audio_path)\n",
    "print(type(x), type(sr))\n",
    "print(x.shape, sr)\n",
    "\n",
    "\n",
    "plt.figure(figsize=(14, 5))\n",
    "librosa.display.waveplot(x, sr=sr)\n",
    "\n",
    "librosa.output.write_wav('example.wav', x, sr)\n",
    "\n"
   ]
  },
  {
   "cell_type": "code",
   "execution_count": null,
   "metadata": {},
   "outputs": [],
   "source": [
    "ipd.display(ipd.Audio(data=x, rate = sr)) #  if not wrap in ipd.display, then timesize will be uncorrect, and slider doesn't work\n",
    "#ipd.display(ipd.Audio(filename=audio_path))"
   ]
  },
  {
   "cell_type": "code",
   "execution_count": null,
   "metadata": {},
   "outputs": [],
   "source": [
    "#Частота цветности (chroma features)\n",
    "hop_length = 512\n",
    "#time_stop = 1000000\n",
    "#showed_x = x[0:time_stop]\n",
    "showed_x = x\n",
    "chromagram = librosa.feature.chroma_stft(showed_x, sr=sr, hop_length=hop_length)\n",
    "plt.figure(figsize=(15, 5))\n",
    "librosa.display.specshow(chromagram, x_axis='time', y_axis='chroma', hop_length=hop_length, cmap='coolwarm')"
   ]
  },
  {
   "cell_type": "code",
   "execution_count": null,
   "metadata": {},
   "outputs": [],
   "source": [
    "# using sounddevice to get audiostream\n",
    "duration = 10.5  # seconds\n",
    "myrecording = sd.rec(int(duration * fs), samplerate=fs, channels=2)\n",
    "# stop recording\n",
    "sd.wait()\n"
   ]
  },
  {
   "cell_type": "code",
   "execution_count": null,
   "metadata": {},
   "outputs": [],
   "source": [
    "# 03.04 try to using pyaudio for realtime\n",
    "# find funny idea: https://www.youtube.com/watch?v=at2NppqIZok\n",
    "#import pyaudio\n",
    "\n",
    "\n",
    "RATE    = 16000\n",
    "CHUNK   = 256\n",
    "\n",
    "p = pyaudio.PyAudio()\n",
    "\n",
    "player = p.open(format=pyaudio.paInt16, channels=1, rate=RATE, output=True, \n",
    "frames_per_buffer=CHUNK)\n",
    "stream = p.open(format=pyaudio.paInt16, channels=1, rate=RATE, input=True, frames_per_buffer=CHUNK)\n",
    "\n",
    "for i in range(int(20*RATE/CHUNK)): #do this for 10 seconds\n",
    "    player.write(np.fromstring(stream.read(CHUNK),dtype=np.int16))\n",
    "stream.stop_stream()\n",
    "stream.close()\n",
    "p.terminate()\n",
    "\n"
   ]
  },
  {
   "cell_type": "code",
   "execution_count": null,
   "metadata": {},
   "outputs": [],
   "source": [
    "\n",
    "CHANNELS = 2\n",
    "RATE = 44100\n",
    "CHUNK   = 1024 #1024 by default\n",
    "p = pyaudio.PyAudio()\n",
    "\n",
    "def callback(in_data, frame_count, time_info, flag):\n",
    "    # using Numpy to convert to array for processing\n",
    "    audio_data = np.frombuffer(in_data, dtype=np.float32)\n",
    "    return audio_data, pyaudio.paContinue\n",
    "    #return in_data, pyaudio.paContinue\n",
    "\n",
    "stream = p.open(format=pyaudio.paFloat32,\n",
    "                channels=CHANNELS,\n",
    "                rate=RATE,\n",
    "                output=True,\n",
    "                input=True,\n",
    "                stream_callback=callback,frames_per_buffer=CHUNK)\n",
    "\n",
    "stream.start_stream()\n",
    "print(\"Stream is started\")\n",
    "# TODO: add widget to manually start and stop recording\n",
    "while stream.is_active(): \n",
    "    time.sleep(10)\n",
    "# if you don't call stream.stop_stream() it will continue to work even after cell finished\n",
    "#that's funny, but don't do that, (restarting kernel helps to stop recording)\n",
    "    stream.stop_stream()\n",
    "    print(\"Stream is stopped\")\n",
    "\n",
    "stream.close()\n",
    "\n",
    "p.terminate()"
   ]
  },
  {
   "cell_type": "code",
   "execution_count": 2,
   "metadata": {},
   "outputs": [],
   "source": [
    "#define audio settings and data processing\n",
    "\n",
    "CHANNELS = 2\n",
    "RATE = 44100\n",
    "CHUNK   = 1024\n",
    "\n",
    "def callback(in_data, frame_count, time_info, flag):\n",
    "    # using Numpy to convert to array for processing\n",
    "    audio_data = np.frombuffer(in_data, dtype=np.float32)\n",
    "    #np.multiply(audio_data,100)\n",
    "    return audio_data, pyaudio.paContinue\n",
    "    #return in_data, pyaudio.paContinue\n",
    "    "
   ]
  },
  {
   "cell_type": "code",
   "execution_count": 3,
   "metadata": {},
   "outputs": [],
   "source": [
    "# define widget\n",
    "\n",
    "# here your button layout, basically it's size and border\n",
    "layout = widgets.Layout(\n",
    "    width='30px', height='60px',\n",
    "    border='1px solid black')\n",
    "\n",
    "# don't check why, but you need to add an extra parameter in signature of method (there it's 'b'), or it won't work\n",
    "def on_button_start_clicked(stream,b):\n",
    "    stream.start_stream()\n",
    "    print(\"Stream is started\")\n",
    "    \n",
    "def on_button_stop_clicked(stream,b):\n",
    "    stream.stop_stream()\n",
    "    print(\"Stream is stopped\")"
   ]
  },
  {
   "cell_type": "code",
   "execution_count": 4,
   "metadata": {},
   "outputs": [
    {
     "data": {
      "application/vnd.jupyter.widget-view+json": {
       "model_id": "a7ef4871ffb348289e82ee467eaf1783",
       "version_major": 2,
       "version_minor": 0
      },
      "text/plain": [
       "Box(children=(Button(description='start', layout=Layout(border='1px solid black', height='60px', width='30px')…"
      ]
     },
     "metadata": {},
     "output_type": "display_data"
    }
   ],
   "source": [
    "# create widget for easy working with speech recorder\n",
    "#define our audio\n",
    "p = pyaudio.PyAudio()\n",
    "stream = p.open(format=pyaudio.paFloat32,\n",
    "                channels=CHANNELS,\n",
    "                rate=RATE,\n",
    "                output=True,\n",
    "                input=True,\n",
    "                stream_callback=callback,frames_per_buffer=CHUNK)\n",
    "\n",
    "# here your buttons\n",
    "buttons = []\n",
    "button_start = widgets.Button(\n",
    "        description='start', layout=layout)\n",
    "button_stop = widgets.Button(\n",
    "        description='pause', layout=layout)\n",
    "button_start.on_click(partial(on_button_start_clicked,stream))\n",
    "#button_stop.on_click(partial(on_button_stop_clicked,stream))\n",
    "button_stop.on_click(partial(on_button_stop_clicked,stream))\n",
    "\n",
    "buttons.append(button_start)\n",
    "buttons.append(button_stop)\n",
    "\n",
    "# here your buttons in horizontal line\n",
    "widgets.Box(children=buttons)\n"
   ]
  },
  {
   "cell_type": "code",
   "execution_count": null,
   "metadata": {},
   "outputs": [],
   "source": [
    "#Call this cell for emergency\n",
    "stream.close()\n",
    "p.terminate()"
   ]
  },
  {
   "cell_type": "code",
   "execution_count": null,
   "metadata": {},
   "outputs": [],
   "source": []
  }
 ],
 "metadata": {
  "kernelspec": {
   "display_name": "Python 3",
   "language": "python",
   "name": "python3"
  },
  "language_info": {
   "codemirror_mode": {
    "name": "ipython",
    "version": 3
   },
   "file_extension": ".py",
   "mimetype": "text/x-python",
   "name": "python",
   "nbconvert_exporter": "python",
   "pygments_lexer": "ipython3",
   "version": "3.7.1"
  }
 },
 "nbformat": 4,
 "nbformat_minor": 2
}
